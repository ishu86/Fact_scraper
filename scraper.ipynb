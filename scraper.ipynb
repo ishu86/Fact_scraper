{
  "cells": [
    {
      "cell_type": "markdown",
      "metadata": {
        "id": "V-9tzMMEAEmP"
      },
      "source": [
        "### Install Dependencies"
      ]
    },
    {
      "cell_type": "code",
      "execution_count": null,
      "metadata": {
        "colab": {
          "base_uri": "https://localhost:8080/"
        },
        "execution": {
          "iopub.execute_input": "2023-11-13T16:16:11.988436Z",
          "iopub.status.busy": "2023-11-13T16:16:11.987430Z",
          "iopub.status.idle": "2023-11-13T16:17:06.670215Z",
          "shell.execute_reply": "2023-11-13T16:17:06.668310Z",
          "shell.execute_reply.started": "2023-11-13T16:16:11.988377Z"
        },
        "id": "WwaCYGawAEmU",
        "outputId": "8e8c6db8-b804-4b5f-b7c9-36443884898e",
        "trusted": true
      },
      "outputs": [
        {
          "name": "stdout",
          "output_type": "stream",
          "text": [
            "Installing collected packages: tiktoken\n",
            "Successfully installed tiktoken-0.6.0\n"
          ]
        }
      ],
      "source": [
        "!pip install newspaper3k\n",
        "!pip install langchain\n",
        "!pip install tiktoken"
      ]
    },
    {
      "cell_type": "code",
      "execution_count": null,
      "metadata": {
        "id": "OYCeyYtHRZKG"
      },
      "outputs": [],
      "source": [
        "import os\n",
        "import pandas as pd\n",
        "import numpy as np\n",
        "import langchain\n",
        "from langchain.memory import ConversationBufferMemory\n",
        "from langchain.callbacks.streaming_stdout import StreamingStdOutCallbackHandler\n",
        "import regex as re\n",
        "from langchain.text_splitter import RecursiveCharacterTextSplitter\n",
        "from langchain.output_parsers import PydanticOutputParser\n",
        "from langchain.pydantic_v1 import BaseModel, Field, validator\n",
        "from newspaper import Article\n",
        "import datetime"
      ]
    },
    {
      "cell_type": "markdown",
      "metadata": {
        "id": "xWZBjqt_Y72e"
      },
      "source": [
        "Get News content"
      ]
    },
    {
      "cell_type": "code",
      "execution_count": null,
      "metadata": {
        "execution": {
          "iopub.execute_input": "2023-11-13T16:29:16.394788Z",
          "iopub.status.busy": "2023-11-13T16:29:16.394286Z",
          "iopub.status.idle": "2023-11-13T16:29:16.403730Z",
          "shell.execute_reply": "2023-11-13T16:29:16.401843Z",
          "shell.execute_reply.started": "2023-11-13T16:29:16.394748Z"
        },
        "id": "wMiuqrpYAEmd",
        "trusted": true
      },
      "outputs": [],
      "source": [
        "def remove_characters(text):\n",
        "    text = text.replace(\"\\n\", \" \")\n",
        "    text = re.sub(r'https?://\\S+|www\\.\\S+', '', text)   #subject to change according to article\n",
        "    text = re.sub(r'[^\\w\\s\",.-]', '', text)\n",
        "    text = re.sub(r'\\([^)]*\\)', '', text)\n",
        "    text = re.sub(r'\\[[^\\]]*\\]', '', text)\n",
        "    text = re.sub(r'\\u200d',\"\",text)\n",
        "    text = re.sub(r\"This is AI generated summarization, which may have errors. For context, always refer to the full article.\",\"\",text)\n",
        "    return text"
      ]
    },
    {
      "cell_type": "code",
      "execution_count": null,
      "metadata": {
        "execution": {
          "iopub.execute_input": "2023-11-13T16:30:35.195789Z",
          "iopub.status.busy": "2023-11-13T16:30:35.195281Z",
          "iopub.status.idle": "2023-11-13T16:30:35.203441Z",
          "shell.execute_reply": "2023-11-13T16:30:35.201836Z",
          "shell.execute_reply.started": "2023-11-13T16:30:35.195750Z"
        },
        "id": "CZL9FDJ7AEme",
        "trusted": true
      },
      "outputs": [],
      "source": [
        "def get_page_content(url):\n",
        "    article = Article(url)\n",
        "    article.download()\n",
        "    article.parse()\n",
        "    txt = article.text\n",
        "    return remove_characters(txt)"
      ]
    },
    {
      "cell_type": "markdown",
      "metadata": {
        "id": "q1tYsNvRAEme"
      },
      "source": [
        "### Scraping"
      ]
    },
    {
      "cell_type": "code",
      "execution_count": null,
      "metadata": {
        "execution": {
          "iopub.execute_input": "2023-11-13T16:30:36.898535Z",
          "iopub.status.busy": "2023-11-13T16:30:36.897462Z",
          "iopub.status.idle": "2023-11-13T16:30:36.904352Z",
          "shell.execute_reply": "2023-11-13T16:30:36.902740Z",
          "shell.execute_reply.started": "2023-11-13T16:30:36.898482Z"
        },
        "id": "t4_uzA_zAEme",
        "trusted": true
      },
      "outputs": [],
      "source": [
        "from langchain.docstore.document import Document"
      ]
    },
    {
      "cell_type": "code",
      "execution_count": null,
      "metadata": {
        "execution": {
          "iopub.execute_input": "2023-11-13T16:30:38.334448Z",
          "iopub.status.busy": "2023-11-13T16:30:38.333929Z",
          "iopub.status.idle": "2023-11-13T16:30:38.341456Z",
          "shell.execute_reply": "2023-11-13T16:30:38.339859Z",
          "shell.execute_reply.started": "2023-11-13T16:30:38.334410Z"
        },
        "id": "PnM8I-_6AEme",
        "trusted": true
      },
      "outputs": [],
      "source": [
        "doc_list = []"
      ]
    },
    {
      "cell_type": "code",
      "execution_count": null,
      "metadata": {
        "colab": {
          "base_uri": "https://localhost:8080/"
        },
        "id": "1OfsSDRrNkuJ",
        "outputId": "00f4ccff-2b4c-4a60-de39-3f8296987b94"
      },
      "outputs": [
        {
          "name": "stdout",
          "output_type": "stream",
          "text": [
            "17 claims added to source list for fullfact.org\n",
            "No relevant claims found for https://www.indiatoday.in/fact-check.\n",
            "Finished processing all publisher websites.\n"
          ]
        }
      ],
      "source": [
        "import requests\n",
        "\n",
        "api_key = 'your_cloud_api'\n",
        "api_url = 'https://factchecktools.googleapis.com/v1alpha1/claims:search'\n",
        "\n",
        "# Define list of publisher websites (replace with your desired URLs)\n",
        "publisher_list = [\n",
        "    \"fullfact.org\",\n",
        "    \"https://www.indiatoday.in/fact-check\"\n",
        "    # Add more website URLs here\n",
        "]\n",
        "\n",
        "num_claims_to_retrieve = 5500  # To retrieve specific no. of claims\n",
        "claims_upto_days = 10  # retrieve claims upto spicific no. of days\n",
        "\n",
        "for publisher_site in publisher_list:\n",
        "  params = {\n",
        "    'key': api_key,\n",
        "    'reviewPublisherSiteFilter': publisher_site,\n",
        "    'pageSize': num_claims_to_retrieve,  # comment out to retrieve all claims\n",
        "    'maxAgeDays': claims_upto_days,\n",
        "    # 'language' : 'en'  # optional language filter\n",
        "  }\n",
        "\n",
        "  response = requests.get(api_url, params=params)\n",
        "  ccount = 0\n",
        "\n",
        "  if response.status_code == 200:\n",
        "    data = response.json()\n",
        "    claims = data.get('claims', [])\n",
        "\n",
        "    if claims:\n",
        "      for claim in claims:\n",
        "        ccount += 1\n",
        "\n",
        "        # Process claim data\n",
        "        publishDate = claim.get(\"claimDate\")\n",
        "        claim_review_title = claim.get('claimReview')[0].get('title')\n",
        "        claim_url = claim.get('claimReview')[0].get('url')\n",
        "        publisher = claim.get('claimReview')[0].get('publisher').get('name')\n",
        "        siteorigin = claim.get('claimReview')[0].get('publisher').get('site')\n",
        "        dateofclaim = claim.get('claimReview')[0].get('reviewDate')\n",
        "        claim_status = claim.get('claimReview')[0].get('textualRating')\n",
        "\n",
        "        try:\n",
        "          # Add claim data to your document list (adjust based on your setup)\n",
        "          doc_list.append(\n",
        "              Document(\n",
        "                  page_content=claim_review_title + get_page_content(claim_url) + \"\\n\",\n",
        "                  metadata={\n",
        "                      \"title\": claim_review_title,\n",
        "                      \"source\": claim_url,\n",
        "                      \"publisher\": publisher,\n",
        "                      \"validity\": claim_status,\n",
        "                      \"publishDate\": dateofclaim\n",
        "                  }\n",
        "              )\n",
        "          )\n",
        "        except Exception as e:\n",
        "          pass\n",
        "\n",
        "      print(f\"{ccount} claims added to source list for {publisher_site}\")\n",
        "    else:\n",
        "      print(f\"No relevant claims found for {publisher_site}.\")\n",
        "  else:\n",
        "    print(f\"Error: {response.status_code}\")\n",
        "\n",
        "print(\"Finished processing all publisher websites.\")\n"
      ]
    },
    {
      "cell_type": "code",
      "execution_count": null,
      "metadata": {
        "colab": {
          "base_uri": "https://localhost:8080/"
        },
        "execution": {
          "iopub.execute_input": "2023-11-13T17:44:27.464629Z",
          "iopub.status.busy": "2023-11-13T17:44:27.464160Z",
          "iopub.status.idle": "2023-11-13T17:44:27.473713Z",
          "shell.execute_reply": "2023-11-13T17:44:27.471979Z",
          "shell.execute_reply.started": "2023-11-13T17:44:27.464595Z"
        },
        "id": "p0HP0lMTAEmf",
        "outputId": "2a41af6f-012d-4243-e292-818d863a0409",
        "trusted": true
      },
      "outputs": [
        {
          "data": {
            "text/plain": [
              "17"
            ]
          },
          "execution_count": 9,
          "metadata": {},
          "output_type": "execute_result"
        }
      ],
      "source": [
        "len(doc_list)  #check if number same as ccount"
      ]
    },
    {
      "cell_type": "code",
      "execution_count": null,
      "metadata": {
        "id": "R6cWcDMJpj4T"
      },
      "outputs": [],
      "source": [
        "chunksplitter = RecursiveCharacterTextSplitter.from_tiktoken_encoder(\n",
        "    chunk_size = 2048,\n",
        "    chunk_overlap = 0,\n",
        ")"
      ]
    },
    {
      "cell_type": "code",
      "execution_count": null,
      "metadata": {
        "id": "gCDg1iRkpmh-"
      },
      "outputs": [],
      "source": [
        "chunk_splitted_docs = chunksplitter.split_documents(\n",
        "    doc_list\n",
        ")"
      ]
    },
    {
      "cell_type": "code",
      "execution_count": null,
      "metadata": {
        "colab": {
          "base_uri": "https://localhost:8080/"
        },
        "id": "EDPEDRDgpo7g",
        "outputId": "47690668-e4ca-456b-f8c0-ed6ea36681d8"
      },
      "outputs": [
        {
          "data": {
            "text/plain": [
              "17"
            ]
          },
          "execution_count": 14,
          "metadata": {},
          "output_type": "execute_result"
        }
      ],
      "source": [
        "len(chunk_splitted_docs)"
      ]
    },
    {
      "cell_type": "code",
      "execution_count": null,
      "metadata": {
        "execution": {
          "iopub.execute_input": "2023-11-13T17:45:29.757059Z",
          "iopub.status.busy": "2023-11-13T17:45:29.756597Z",
          "iopub.status.idle": "2023-11-13T17:45:29.768980Z",
          "shell.execute_reply": "2023-11-13T17:45:29.767917Z",
          "shell.execute_reply.started": "2023-11-13T17:45:29.757023Z"
        },
        "id": "0IPkw157AEmh",
        "trusted": true
      },
      "outputs": [],
      "source": [
        "dat = pd.DataFrame(columns=[\"title\",\"content\",\"source\",\"publisher\",\"validity\",\"publish_date\"])"
      ]
    },
    {
      "cell_type": "code",
      "execution_count": null,
      "metadata": {
        "colab": {
          "base_uri": "https://localhost:8080/",
          "height": 89
        },
        "execution": {
          "iopub.execute_input": "2023-11-13T17:45:30.275795Z",
          "iopub.status.busy": "2023-11-13T17:45:30.275317Z",
          "iopub.status.idle": "2023-11-13T17:45:30.297617Z",
          "shell.execute_reply": "2023-11-13T17:45:30.296157Z",
          "shell.execute_reply.started": "2023-11-13T17:45:30.275762Z"
        },
        "id": "7lcWduTGAEmh",
        "outputId": "a8b27d84-2c51-4c0f-f275-7dd392e1f5dd",
        "trusted": true
      },
      "outputs": [
        {
          "data": {
            "application/vnd.google.colaboratory.intrinsic+json": {
              "repr_error": "'str' object has no attribute 'empty'",
              "type": "dataframe",
              "variable_name": "dat"
            },
            "text/html": [
              "\n",
              "  <div id=\"df-122b295e-9e64-429a-b17f-5fe282dd5ea4\" class=\"colab-df-container\">\n",
              "    <div>\n",
              "<style scoped>\n",
              "    .dataframe tbody tr th:only-of-type {\n",
              "        vertical-align: middle;\n",
              "    }\n",
              "\n",
              "    .dataframe tbody tr th {\n",
              "        vertical-align: top;\n",
              "    }\n",
              "\n",
              "    .dataframe thead th {\n",
              "        text-align: right;\n",
              "    }\n",
              "</style>\n",
              "<table border=\"1\" class=\"dataframe\">\n",
              "  <thead>\n",
              "    <tr style=\"text-align: right;\">\n",
              "      <th></th>\n",
              "      <th>title</th>\n",
              "      <th>content</th>\n",
              "      <th>source</th>\n",
              "      <th>publisher</th>\n",
              "      <th>validity</th>\n",
              "      <th>publish_date</th>\n",
              "    </tr>\n",
              "  </thead>\n",
              "  <tbody>\n",
              "  </tbody>\n",
              "</table>\n",
              "</div>\n",
              "    <div class=\"colab-df-buttons\">\n",
              "\n",
              "  <div class=\"colab-df-container\">\n",
              "    <button class=\"colab-df-convert\" onclick=\"convertToInteractive('df-122b295e-9e64-429a-b17f-5fe282dd5ea4')\"\n",
              "            title=\"Convert this dataframe to an interactive table.\"\n",
              "            style=\"display:none;\">\n",
              "\n",
              "  <svg xmlns=\"http://www.w3.org/2000/svg\" height=\"24px\" viewBox=\"0 -960 960 960\">\n",
              "    <path d=\"M120-120v-720h720v720H120Zm60-500h600v-160H180v160Zm220 220h160v-160H400v160Zm0 220h160v-160H400v160ZM180-400h160v-160H180v160Zm440 0h160v-160H620v160ZM180-180h160v-160H180v160Zm440 0h160v-160H620v160Z\"/>\n",
              "  </svg>\n",
              "    </button>\n",
              "\n",
              "  <style>\n",
              "    .colab-df-container {\n",
              "      display:flex;\n",
              "      gap: 12px;\n",
              "    }\n",
              "\n",
              "    .colab-df-convert {\n",
              "      background-color: #E8F0FE;\n",
              "      border: none;\n",
              "      border-radius: 50%;\n",
              "      cursor: pointer;\n",
              "      display: none;\n",
              "      fill: #1967D2;\n",
              "      height: 32px;\n",
              "      padding: 0 0 0 0;\n",
              "      width: 32px;\n",
              "    }\n",
              "\n",
              "    .colab-df-convert:hover {\n",
              "      background-color: #E2EBFA;\n",
              "      box-shadow: 0px 1px 2px rgba(60, 64, 67, 0.3), 0px 1px 3px 1px rgba(60, 64, 67, 0.15);\n",
              "      fill: #174EA6;\n",
              "    }\n",
              "\n",
              "    .colab-df-buttons div {\n",
              "      margin-bottom: 4px;\n",
              "    }\n",
              "\n",
              "    [theme=dark] .colab-df-convert {\n",
              "      background-color: #3B4455;\n",
              "      fill: #D2E3FC;\n",
              "    }\n",
              "\n",
              "    [theme=dark] .colab-df-convert:hover {\n",
              "      background-color: #434B5C;\n",
              "      box-shadow: 0px 1px 3px 1px rgba(0, 0, 0, 0.15);\n",
              "      filter: drop-shadow(0px 1px 2px rgba(0, 0, 0, 0.3));\n",
              "      fill: #FFFFFF;\n",
              "    }\n",
              "  </style>\n",
              "\n",
              "    <script>\n",
              "      const buttonEl =\n",
              "        document.querySelector('#df-122b295e-9e64-429a-b17f-5fe282dd5ea4 button.colab-df-convert');\n",
              "      buttonEl.style.display =\n",
              "        google.colab.kernel.accessAllowed ? 'block' : 'none';\n",
              "\n",
              "      async function convertToInteractive(key) {\n",
              "        const element = document.querySelector('#df-122b295e-9e64-429a-b17f-5fe282dd5ea4');\n",
              "        const dataTable =\n",
              "          await google.colab.kernel.invokeFunction('convertToInteractive',\n",
              "                                                    [key], {});\n",
              "        if (!dataTable) return;\n",
              "\n",
              "        const docLinkHtml = 'Like what you see? Visit the ' +\n",
              "          '<a target=\"_blank\" href=https://colab.research.google.com/notebooks/data_table.ipynb>data table notebook</a>'\n",
              "          + ' to learn more about interactive tables.';\n",
              "        element.innerHTML = '';\n",
              "        dataTable['output_type'] = 'display_data';\n",
              "        await google.colab.output.renderOutput(dataTable, element);\n",
              "        const docLink = document.createElement('div');\n",
              "        docLink.innerHTML = docLinkHtml;\n",
              "        element.appendChild(docLink);\n",
              "      }\n",
              "    </script>\n",
              "  </div>\n",
              "\n",
              "\n",
              "  <div id=\"id_3cbd9c39-3475-418c-9408-c20d2336ebed\">\n",
              "    <style>\n",
              "      .colab-df-generate {\n",
              "        background-color: #E8F0FE;\n",
              "        border: none;\n",
              "        border-radius: 50%;\n",
              "        cursor: pointer;\n",
              "        display: none;\n",
              "        fill: #1967D2;\n",
              "        height: 32px;\n",
              "        padding: 0 0 0 0;\n",
              "        width: 32px;\n",
              "      }\n",
              "\n",
              "      .colab-df-generate:hover {\n",
              "        background-color: #E2EBFA;\n",
              "        box-shadow: 0px 1px 2px rgba(60, 64, 67, 0.3), 0px 1px 3px 1px rgba(60, 64, 67, 0.15);\n",
              "        fill: #174EA6;\n",
              "      }\n",
              "\n",
              "      [theme=dark] .colab-df-generate {\n",
              "        background-color: #3B4455;\n",
              "        fill: #D2E3FC;\n",
              "      }\n",
              "\n",
              "      [theme=dark] .colab-df-generate:hover {\n",
              "        background-color: #434B5C;\n",
              "        box-shadow: 0px 1px 3px 1px rgba(0, 0, 0, 0.15);\n",
              "        filter: drop-shadow(0px 1px 2px rgba(0, 0, 0, 0.3));\n",
              "        fill: #FFFFFF;\n",
              "      }\n",
              "    </style>\n",
              "    <button class=\"colab-df-generate\" onclick=\"generateWithVariable('dat')\"\n",
              "            title=\"Generate code using this dataframe.\"\n",
              "            style=\"display:none;\">\n",
              "\n",
              "  <svg xmlns=\"http://www.w3.org/2000/svg\" height=\"24px\"viewBox=\"0 0 24 24\"\n",
              "       width=\"24px\">\n",
              "    <path d=\"M7,19H8.4L18.45,9,17,7.55,7,17.6ZM5,21V16.75L18.45,3.32a2,2,0,0,1,2.83,0l1.4,1.43a1.91,1.91,0,0,1,.58,1.4,1.91,1.91,0,0,1-.58,1.4L9.25,21ZM18.45,9,17,7.55Zm-12,3A5.31,5.31,0,0,0,4.9,8.1,5.31,5.31,0,0,0,1,6.5,5.31,5.31,0,0,0,4.9,4.9,5.31,5.31,0,0,0,6.5,1,5.31,5.31,0,0,0,8.1,4.9,5.31,5.31,0,0,0,12,6.5,5.46,5.46,0,0,0,6.5,12Z\"/>\n",
              "  </svg>\n",
              "    </button>\n",
              "    <script>\n",
              "      (() => {\n",
              "      const buttonEl =\n",
              "        document.querySelector('#id_3cbd9c39-3475-418c-9408-c20d2336ebed button.colab-df-generate');\n",
              "      buttonEl.style.display =\n",
              "        google.colab.kernel.accessAllowed ? 'block' : 'none';\n",
              "\n",
              "      buttonEl.onclick = () => {\n",
              "        google.colab.notebook.generateWithVariable('dat');\n",
              "      }\n",
              "      })();\n",
              "    </script>\n",
              "  </div>\n",
              "\n",
              "    </div>\n",
              "  </div>\n"
            ],
            "text/plain": [
              "Empty DataFrame\n",
              "Columns: [title, content, source, publisher, validity, publish_date]\n",
              "Index: []"
            ]
          },
          "execution_count": 16,
          "metadata": {},
          "output_type": "execute_result"
        }
      ],
      "source": [
        "dat"
      ]
    },
    {
      "cell_type": "code",
      "execution_count": null,
      "metadata": {
        "colab": {
          "base_uri": "https://localhost:8080/"
        },
        "id": "TTo0VZg5AEmh",
        "outputId": "1132d216-774b-4b24-bbf5-09fe3e24e7bd"
      },
      "outputs": [
        {
          "name": "stdout",
          "output_type": "stream",
          "text": [
            "How has disposable income changed since 2010?\n"
          ]
        }
      ],
      "source": [
        "i = 0\n",
        "for doc in chunk_splitted_docs:\n",
        "    if i==1:\n",
        "        print(doc.metadata[\"title\"])\n",
        "    i+=1"
      ]
    },
    {
      "cell_type": "code",
      "execution_count": null,
      "metadata": {
        "colab": {
          "base_uri": "https://localhost:8080/"
        },
        "execution": {
          "iopub.execute_input": "2023-11-13T08:18:44.672698Z",
          "iopub.status.busy": "2023-11-13T08:18:44.672258Z",
          "iopub.status.idle": "2023-11-13T08:18:44.682072Z",
          "shell.execute_reply": "2023-11-13T08:18:44.680611Z",
          "shell.execute_reply.started": "2023-11-13T08:18:44.672664Z"
        },
        "id": "-bE0kKRYAEmi",
        "outputId": "2db08bdc-142f-42f4-9fc4-a751746576a0",
        "trusted": true
      },
      "outputs": [
        {
          "data": {
            "text/plain": [
              "Index(['title', 'content', 'source', 'publisher', 'validity', 'publish_date'], dtype='object')"
            ]
          },
          "execution_count": 18,
          "metadata": {},
          "output_type": "execute_result"
        }
      ],
      "source": [
        "dat.columns"
      ]
    },
    {
      "cell_type": "code",
      "execution_count": null,
      "metadata": {
        "execution": {
          "iopub.execute_input": "2023-11-13T18:08:33.609800Z",
          "iopub.status.busy": "2023-11-13T18:08:33.609210Z",
          "iopub.status.idle": "2023-11-13T18:08:33.658110Z",
          "shell.execute_reply": "2023-11-13T18:08:33.656363Z",
          "shell.execute_reply.started": "2023-11-13T18:08:33.609756Z"
        },
        "id": "oiJsW0NYAEmi",
        "trusted": true
      },
      "outputs": [],
      "source": [
        "data_list = []\n",
        "\n",
        "for doc in chunk_splitted_docs:\n",
        "    for j in doc.metadata:\n",
        "        if doc.metadata[j] is None:\n",
        "            doc.metadata[j] = \"Not Available\"\n",
        "\n",
        "    # Create a dictionary with the data for each column\n",
        "    data_dict = {\n",
        "        \"title\": doc.metadata[\"title\"],\n",
        "        \"content\": doc.page_content,\n",
        "        \"source\": doc.metadata[\"source\"],\n",
        "        \"publisher\": doc.metadata[\"publisher\"],\n",
        "        \"validity\": doc.metadata[\"validity\"],\n",
        "        \"publish_date\" : doc.metadata[\"publishDate\"]\n",
        "    }\n",
        "\n",
        "    # Append the data_dict to the data_list\n",
        "    data_list.append(data_dict)\n",
        "\n",
        "# Create a DataFrame from the list of dictionaries\n",
        "dat = pd.DataFrame(data_list)"
      ]
    },
    {
      "cell_type": "code",
      "execution_count": null,
      "metadata": {
        "execution": {
          "iopub.execute_input": "2023-11-13T18:08:58.021777Z",
          "iopub.status.busy": "2023-11-13T18:08:58.021209Z",
          "iopub.status.idle": "2023-11-13T18:08:59.269613Z",
          "shell.execute_reply": "2023-11-13T18:08:59.268001Z",
          "shell.execute_reply.started": "2023-11-13T18:08:58.021737Z"
        },
        "id": "M4gCGa1OAEmz",
        "trusted": true
      },
      "outputs": [],
      "source": [
        "dat.to_csv(\"fullfactallclaimstest.csv\", encoding='utf-8' ,sep=\"\\t\")"
      ]
    }
  ],
  "metadata": {
    "colab": {
      "provenance": []
    },
    "kaggle": {
      "accelerator": "none",
      "dataSources": [],
      "dockerImageVersionId": 30579,
      "isGpuEnabled": false,
      "isInternetEnabled": true,
      "language": "python",
      "sourceType": "notebook"
    },
    "kernelspec": {
      "display_name": "Python 3",
      "language": "python",
      "name": "python3"
    },
    "language_info": {
      "codemirror_mode": {
        "name": "ipython",
        "version": 3
      },
      "file_extension": ".py",
      "mimetype": "text/x-python",
      "name": "python",
      "nbconvert_exporter": "python",
      "pygments_lexer": "ipython3",
      "version": "3.10.12"
    }
  },
  "nbformat": 4,
  "nbformat_minor": 0
}
